{
 "cells": [
  {
   "cell_type": "code",
   "execution_count": null,
   "metadata": {},
   "outputs": [],
   "source": [
    "import numpy as np\n",
    "import os\n",
    "#from util import seq_matrix"
   ]
  },
  {
   "cell_type": "code",
   "execution_count": null,
   "metadata": {},
   "outputs": [],
   "source": [
    "def seq_matrix(seq_list, dim):\n",
    "\ttensor = np.zeros((len(seq_list),dim,4))\n",
    "\ty = []\n",
    "\tfor i in range(len(seq_list)):\n",
    "\t\tseq = seq_list[i]\n",
    "\t\tj = 0\n",
    "\t\tfor s in seq:\n",
    "\t\t\tif s == 'A' or s == 'a':\n",
    "\t\t\t\ttensor[i][j] = [1,0,0,0]\n",
    "\t\t\tif s == 'T' or s == 't':\n",
    "\t\t\t\ttensor[i][j] = [0,1,0,0]\n",
    "\t\t\tif s == 'C' or s == 'c':\n",
    "\t\t\t\ttensor[i][j] = [0,0,1,0]\n",
    "\t\t\tif s == 'G' or s == 'g':\n",
    "\t\t\t\ttensor[i][j] = [0,0,0,1]\n",
    "\t\t\tif s == 'N':\n",
    "\t\t\t\ttensor[i][j] = [0,0,0,0]\n",
    "\t\t\tj += 1\n",
    "\t\n",
    "\treturn tensor"
   ]
  },
  {
   "cell_type": "code",
   "execution_count": null,
   "metadata": {},
   "outputs": [],
   "source": [
    "def bed_to_fasta():\n",
    "\tbeds = ['data/VIS_pos_final.bed','data/VIS_neg_final.bed']\n",
    "\tfor bed in beds:\n",
    "\t\tos.system(\"docker run biocontainers/bedtools:2.25.0 bedtools getfasta -fi ref/hg19.fa -bed \" + bed +\" -fo \" + bed + \".fasta\")"
   ]
  },
  {
   "cell_type": "code",
   "execution_count": null,
   "metadata": {},
   "outputs": [],
   "source": [
    "def fasta_to_matrix():\n",
    "\tseq_name = ['data/VIS_pos_final.bed' , 'data/VIS_neg_final.bed']\n",
    "\t\n",
    "\tprint(seq_name)\n",
    "\tdim = 1000\n",
    "\tprint('seq')\n",
    "\t### Seq ###\n",
    "\n",
    "\tfor name in seq_name:\n",
    "\t\tif 'pos' in name:\n",
    "\t\t\tprint(name)\n",
    "\t\t\ty = []\n",
    "\t\t\tseq = []\n",
    "\t\t\tpositive_seq_file = open(name +'.fasta')\n",
    "\t\t\tlines = positive_seq_file.readlines()\n",
    "\t\t\tpositive_seq_file.close()\n",
    "\t\t\tfor line in lines:\n",
    "\t\t\t\tline = line.strip()\n",
    "\t\t\t\tif line[0] == '>':\n",
    "\t\t\t\t\ty.append(1)\n",
    "\t\t\t\telse:\n",
    "\t\t\t\t\tseq.append(line)\n",
    "\n",
    "\t\t\tX1 = seq_matrix(seq,dim)\n",
    "\t\t\tprint('pos_ending!')\n",
    "\t\t\tnp.save(name.split('.')[0], X1)\n",
    "\n",
    "\t\tif 'neg' in name:\n",
    "\t\t\tprint(name)\n",
    "\t\t\ty = []\n",
    "\t\t\tseq = []\n",
    "\t\t\tnegative_seq_file = open(name +'.fasta')\n",
    "\t\t\tlines = negative_seq_file.readlines()\n",
    "\t\t\tnegative_seq_file.close()\n",
    "\t\t\tfor line in lines:\n",
    "\t\t\t\tline = line.strip()\n",
    "\t\t\t\tif line[0] == '>':\n",
    "\t\t\t\t\ty.append(0)\n",
    "\t\t\t\telse:\n",
    "\t\t\t\t\tseq.append(line)\n",
    "\n",
    "\t\t\tX0 = seq_matrix(seq,dim)\n",
    "\t\t\tprint('neg_ending!')\n",
    "\t\t\tnp.save(name.split('.')[0], X0)\n",
    "\n",
    "\tX = np.concatenate([X1,X0])\n",
    "\ty = np.concatenate([np.ones(len(X1)), np.zeros(len(X0))])\n",
    "\n",
    "\tnp.save('data/x_VISDB_fulldata.npy', X)\n",
    "\tnp.save('data/y_VISDB_fulldata.npy', y)"
   ]
  },
  {
   "cell_type": "code",
   "execution_count": null,
   "metadata": {
    "scrolled": true
   },
   "outputs": [],
   "source": [
    "%%time\n",
    "if __name__ == '__main__':\n",
    "\tbed_to_fasta()\n",
    "\tfasta_to_matrix()"
   ]
  },
  {
   "cell_type": "code",
   "execution_count": null,
   "metadata": {},
   "outputs": [],
   "source": []
  }
 ],
 "metadata": {
  "kernelspec": {
   "display_name": "Python 3.8.13 ('pysster')",
   "language": "python",
   "name": "python3"
  },
  "language_info": {
   "codemirror_mode": {
    "name": "ipython",
    "version": 3
   },
   "file_extension": ".py",
   "mimetype": "text/x-python",
   "name": "python",
   "nbconvert_exporter": "python",
   "pygments_lexer": "ipython3",
   "version": "3.8.13"
  },
  "vscode": {
   "interpreter": {
    "hash": "e87b459d4989c2d32e923fc862d7d045f687b8c419e408796a55a92e9e489315"
   }
  }
 },
 "nbformat": 4,
 "nbformat_minor": 1
}
