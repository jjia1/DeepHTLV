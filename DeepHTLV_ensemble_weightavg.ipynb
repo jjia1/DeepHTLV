{
 "cells": [
  {
   "cell_type": "code",
   "execution_count": 1,
   "id": "5ac1e539",
   "metadata": {},
   "outputs": [],
   "source": [
    "from __future__ import print_function, division\n",
    "import numpy as np\n",
    "import h5py\n",
    "import scipy.io\n",
    "import random\n",
    "import sys,os\n",
    "import itertools\n",
    "import numbers\n",
    "from collections import Counter\n",
    "from warnings import warn\n",
    "from abc import ABCMeta, abstractmethod\n",
    "from sklearn.model_selection import train_test_split, StratifiedKFold\n",
    "from sklearn.metrics import roc_auc_score, average_precision_score\n",
    "from sklearn.utils import shuffle\n",
    "import matplotlib.pyplot"
   ]
  },
  {
   "cell_type": "code",
   "execution_count": 2,
   "id": "66a5a840",
   "metadata": {},
   "outputs": [],
   "source": [
    "import tensorflow as tf"
   ]
  },
  {
   "cell_type": "code",
   "execution_count": 3,
   "id": "3cf7fca4",
   "metadata": {},
   "outputs": [],
   "source": [
    "# The below is necessary for starting Numpy generated random numbers\n",
    "# in a well-defined initial state.\n",
    "np.random.seed(1337)\n",
    "\n",
    "# The below is necessary for starting core Python generated random numbers\n",
    "# in a well-defined state.\n",
    "#python_random.seed(1337)\n",
    "\n",
    "# The below set_seed() will make random number generation\n",
    "# in the TensorFlow backend have a well-defined initial state.\n",
    "# For further details, see:\n",
    "# https://www.tensorflow.org/api_docs/python/tf/random/set_seed\n",
    "tf.random.set_seed(1337)\n",
    "#older version of tensorflow\n",
    "#tf.set_random_seed(1337)"
   ]
  },
  {
   "cell_type": "code",
   "execution_count": 4,
   "id": "baf00f4b",
   "metadata": {},
   "outputs": [],
   "source": [
    "gpus = tf.config.experimental.list_physical_devices(device_type='GPU')\n",
    "for gpu in gpus:\n",
    "    tf.config.experimental.set_memory_growth(gpu, True)\n",
    "os.environ['CUDA_VISIBLE_DEVICES'] = \"0\""
   ]
  },
  {
   "cell_type": "code",
   "execution_count": 5,
   "id": "3b9a06a4",
   "metadata": {},
   "outputs": [],
   "source": [
    "num_threads = 8\n",
    "# Maximum number of threads to use for OpenMP parallel regions.\n",
    "os.environ[\"OMP_NUM_THREADS\"] = \"8\"\n",
    "# Without setting below 2 environment variables, it didn't work for me. Thanks to @cjw85 \n",
    "os.environ[\"TF_NUM_INTRAOP_THREADS\"] = \"8\"\n",
    "os.environ[\"TF_NUM_INTEROP_THREADS\"] = \"8\"\n",
    "\n",
    "tf.config.threading.set_inter_op_parallelism_threads(\n",
    "    num_threads\n",
    ")\n",
    "tf.config.threading.set_intra_op_parallelism_threads(\n",
    "    num_threads\n",
    ")\n",
    "tf.config.set_soft_device_placement(True)"
   ]
  },
  {
   "cell_type": "code",
   "execution_count": 6,
   "id": "acc5c5e0",
   "metadata": {},
   "outputs": [],
   "source": [
    "from tensorflow.keras.optimizers import *\n",
    "from tensorflow.keras.models import *\n",
    "from tensorflow.keras.layers import *\n",
    "from tensorflow.keras.constraints import MaxNorm\n",
    "from tensorflow.keras.regularizers import (\n",
    "    l2, \n",
    "    l1, \n",
    "    l1_l2\n",
    ")\n",
    "from tensorflow.keras.models import Model\n",
    "from tensorflow.keras import backend as K\n",
    "from tensorflow.keras import (\n",
    "    activations, \n",
    "    initializers, \n",
    "    regularizers, \n",
    "    constraints\n",
    ")"
   ]
  },
  {
   "cell_type": "code",
   "execution_count": 7,
   "id": "98af4cd3",
   "metadata": {},
   "outputs": [],
   "source": [
    "import matplotlib\n",
    "import matplotlib.pyplot as plt"
   ]
  },
  {
   "cell_type": "code",
   "execution_count": 8,
   "id": "53ba35c8",
   "metadata": {},
   "outputs": [],
   "source": [
    "from tensorflow.keras.callbacks import (\n",
    "    ModelCheckpoint, \n",
    "    EarlyStopping\n",
    ")\n",
    "from sklearn.metrics import (\n",
    "    roc_curve,\n",
    "    auc,\n",
    "    roc_auc_score,\n",
    "    average_precision_score,\n",
    "    precision_recall_curve,\n",
    ")"
   ]
  },
  {
   "cell_type": "code",
   "execution_count": 9,
   "id": "20d6afbc",
   "metadata": {},
   "outputs": [],
   "source": [
    "from sklearn.model_selection import train_test_split, StratifiedKFold\n",
    "from sklearn.utils import resample, shuffle\n",
    "from sklearn.feature_selection import (\n",
    "    SelectKBest,\n",
    "    chi2\n",
    ")\n",
    "from collections import defaultdict"
   ]
  },
  {
   "cell_type": "code",
   "execution_count": 10,
   "id": "84eec855",
   "metadata": {},
   "outputs": [],
   "source": [
    "from attention_layer import Attention, attention_flatten"
   ]
  },
  {
   "cell_type": "code",
   "execution_count": 11,
   "id": "4b27604b",
   "metadata": {},
   "outputs": [],
   "source": [
    "def build_model():\n",
    "\tprint('building model')\n",
    "\n",
    "\tseq_input_shape = (1000,4)\n",
    "\tnb_filter = 256\n",
    "\tfilter_length = 9\n",
    "\tattentionhidden = 256\n",
    "\n",
    "\tseq_input = Input(shape = seq_input_shape, name = 'seq_input')\n",
    "\tconvul1   = Convolution1D(filters = nb_filter,\n",
    "                        \t  kernel_size = filter_length,\n",
    "                        \t  padding = 'valid',\n",
    "                        \t  activation = 'relu',\n",
    "                        \t  kernel_constraint = MaxNorm(3),\n",
    "                        \t  )\n",
    "\n",
    "\tpool_ma1 = MaxPooling1D(pool_size = 3)\n",
    "\tdropout1 = Dropout(0.5977908689086315)\n",
    "\tdropout2 = Dropout(0.50131233477637737)\n",
    "\tdecoder  = Attention(hidden = attentionhidden, activation = 'linear')\n",
    "\tdense1   = Dense(1)\n",
    "\tdense2   = Dense(1)\n",
    "\n",
    "\toutput_1 = pool_ma1(convul1(seq_input))\n",
    "\toutput_2 = dropout1(output_1)\n",
    "\tatt_decoder  = decoder(output_2)\n",
    "\toutput_3 = attention_flatten(output_2.shape[2])(att_decoder)\n",
    "\n",
    "\toutput_4 =  dense1(dropout2(Flatten()(output_2)))\n",
    "\tall_outp =  concatenate([output_3, output_4])\n",
    "\toutput_5 =  dense2(all_outp)\n",
    "\toutput_f =  Activation('sigmoid')(output_5)\n",
    "\n",
    "\tmodel = Model(inputs = seq_input, outputs = output_f)\n",
    "\tmodel.compile(loss = 'binary_crossentropy', optimizer = 'nadam', metrics = ['accuracy'])\n",
    "\n",
    "\tprint (model.summary())\n",
    "\treturn model\n"
   ]
  },
  {
   "cell_type": "code",
   "execution_count": 12,
   "id": "246210bf",
   "metadata": {},
   "outputs": [],
   "source": [
    "def data_processing():\n",
    "    x_visdb = np.load('data/x_VISDB_fulldata.npy')\n",
    "    y_visdb = np.load('data/y_VISDB_fulldata.npy')\n",
    "\n",
    "    ###split 9:1\n",
    "    trainx, valx, trainy, valy = train_test_split(x_visdb, y_visdb, test_size = 0.1, stratify=y_visdb #, random_state=42\n",
    "                                                    )\n",
    "\n",
    "    ##test 1:1\n",
    "    neg_val = np.where(valy == 0)\n",
    "    pos_val = np.where(valy == 1)\n",
    "    xval_positive = valx[pos_val]\n",
    "    yval_positive = valy[pos_val]\n",
    "    xval_negative = valx[neg_val]\n",
    "    yval_negative = valy[neg_val]\n",
    "\n",
    "    permutation = np.random.permutation(xval_negative.shape[0])\n",
    "    xval_negative_1 = xval_negative[permutation[:xval_positive.shape[0]], :, :]\n",
    "    yval_negative_1 = yval_negative[permutation[:xval_positive.shape[0]]]\n",
    "\n",
    "    xval_1 = np.concatenate((xval_positive, xval_negative_1), axis=0)\n",
    "    yval_1 = np.concatenate((yval_positive, yval_negative_1), axis=0)\n",
    "    xval_2, yval_2 = shuffle(xval_1, yval_1 #, random_state=42\n",
    "                            )\n",
    "\n",
    "    trainx2, trainy2 = shuffle(trainx, trainy #, random_state = 42\n",
    "                            )\n",
    "    \n",
    "    return trainx2, trainy2, xval_2, yval_2\n"
   ]
  },
  {
   "cell_type": "code",
   "execution_count": 13,
   "id": "65a11e4d",
   "metadata": {},
   "outputs": [],
   "source": [
    "import gc\n",
    "class MyCustomCallback(tf.keras.callbacks.Callback):\n",
    "    def on_epoch_end(self, epoch, logs = None):\n",
    "        gc.collect()\n",
    "        tf.keras.backend.clear_session()"
   ]
  },
  {
   "cell_type": "code",
   "execution_count": 14,
   "id": "fff25ba7",
   "metadata": {},
   "outputs": [],
   "source": [
    "def train_model():\n",
    "    #all_probas = np.array([])\n",
    "    #all_labels = np.array([])\n",
    "    for u in range(10):\n",
    "        kfold = StratifiedKFold(n_splits = 10, shuffle = True, random_state=1337)\n",
    "\n",
    "        trainx, trainy, valx, valy = data_processing()\n",
    "\n",
    "        folder = ('model/fullrun/run_%s/' %u)\n",
    "        if not os.path.isdir(folder):\n",
    "            os.makedirs(folder)\n",
    "\n",
    "        for i, (train,test) in enumerate(kfold.split(trainx, trainy)):\n",
    "            callback_list = [\n",
    "                EarlyStopping(monitor = 'val_accuracy', patience = 10),\n",
    "                ModelCheckpoint(filepath = (folder+'model_%s.h5' %i), monitor = 'val_accuracy', mode = 'max', save_best_only= True, save_weights_only = True, verbose = 1),\n",
    "                MyCustomCallback()\n",
    "            ]\n",
    "\n",
    "            xtrain = trainx[train]\n",
    "            ytrain = trainy[train]\n",
    "\n",
    "            testx = trainx[test]\n",
    "            testy = trainy[test]\n",
    "\n",
    "            model = build_model()\n",
    "            model.fit(xtrain, ytrain, \n",
    "                        validation_data = (testx, testy),\n",
    "                        epochs = 100, batch_size = 256,\n",
    "                        callbacks = callback_list,\n",
    "                        verbose = 1)\n",
    "\n",
    "            #print('testing')\n",
    "            #y_pred = model.predict(testx)\n",
    "            #all_probas = np.append(all_probas, y_pred)\n",
    "            #all_labels = np.append(all_labels, testy)\n",
    "\n",
    "            del model\n",
    "            gc.collect()\n",
    "            tf.keras.backend.clear_session()"
   ]
  },
  {
   "cell_type": "code",
   "execution_count": 15,
   "id": "1c07009b",
   "metadata": {},
   "outputs": [
    {
     "name": "stdout",
     "output_type": "stream",
     "text": [
      "[1. 2. 1. 2.]\n",
      "[[1. 3.]\n",
      " [2. 4.]\n",
      " [1. 5.]\n",
      " [2. 6.]]\n",
      "[2. 3. 3. 4.]\n",
      "[]\n"
     ]
    }
   ],
   "source": [
    "x = np.array([])\n",
    "x1 = np.array([1,2,1,2])\n",
    "x2 = np.array([3, 4, 5, 6])\n",
    "x = np.append(x, x1, axis = 0)\n",
    "print(x)\n",
    "x = np.stack((x,x2), axis = 1)\n",
    "print(x)\n",
    "x_avg = np.array(x).mean(axis = 1)\n",
    "print(x_avg)\n",
    "x = np.array([])\n",
    "print(x)"
   ]
  },
  {
   "cell_type": "code",
   "execution_count": 21,
   "id": "fff25ba7",
   "metadata": {},
   "outputs": [],
   "source": [
    "def avg_model(valx, valy):\n",
    "\n",
    "        font1 = {'family' : 'Times New Roman',\n",
    "        'weight' : 'normal',\n",
    "        'size'   : 16}\n",
    "        figsize=6.2, 6.2\n",
    "\n",
    "        CV_weights = list()\n",
    "\n",
    "        #for u in range(10):\n",
    "        u = 9\n",
    "        folder = ('model/fullrun2/CV_%s/' %u)\n",
    "        if not os.path.isdir(folder):\n",
    "                os.makedirs(folder)\n",
    "\n",
    "                #for i in range(10):\n",
    "        model = build_model()\n",
    "        i = 9\n",
    "        model.load_weights(folder+'model_%s.h5' %i)\n",
    "        #                weights = model.get_weights()\n",
    "        #                CV_weights.append(weights)\n",
    "\n",
    "        #new_weights = list()\n",
    "\n",
    "        #for weights_list_tuple in zip(*CV_weights):\n",
    "       #         new_weights.append(\n",
    "        #                np.array([np.array(weights_).mean(axis=0)\\\n",
    "        #                        for weights_ in zip(*weights_list_tuple)]))\n",
    "\n",
    "        #model_avg = build_model()\n",
    "        #model_avg.set_weights(new_weights)\n",
    "\n",
    "        pred = model.predict(valx, verbose = 1)\n",
    "        fpr, tpr, _ = roc_curve(valy, pred)\n",
    "        pr, rc, _ = precision_recall_curve(valy, pred)\n",
    "        auroc = roc_auc_score(valy, pred)\n",
    "        aupr = average_precision_score(valy, pred)\n",
    "        \n",
    "        figure3, ax3 = plt.subplots(figsize=figsize)\n",
    "        ax3.tick_params(labelsize=18)\n",
    "        labels = ax3.get_xticklabels() + ax3.get_yticklabels()\n",
    "        [label.set_fontname('Times New Roman') for label in labels]\n",
    "        ax3.plot([0, 1], [0, 1], linestyle='--', lw=2, color='r',\n",
    "        label='Luck', alpha=.8)\n",
    "\n",
    "        ax3.plot(fpr, tpr, color='b',\n",
    "                label=r'DeepHTLV Test ROC (AUC = %0.2f)' % (auroc),\n",
    "                lw=2, alpha=.8)\n",
    "        ax3.set_xlim([-0.05, 1.05])\n",
    "        ax3.set_ylim([-0.05, 1.05])\n",
    "        ax3.set_xlabel('False Positive Rate', font1)\n",
    "        ax3.set_ylabel('True Positive Rate', font1)\n",
    "        title3 = 'Independent Testing  ROC Curve'\n",
    "        ax3.set_title(title3, font1)\n",
    "        ax3.legend(loc=\"lower right\")\n",
    "\n",
    "        figure4, ax4 = plt.subplots(figsize=figsize)\n",
    "        ax4.tick_params(labelsize=18)\n",
    "        labels = ax4.get_xticklabels() + ax4.get_yticklabels()\n",
    "        [label.set_fontname('Times New Roman') for label in labels] \n",
    "        ax4.plot(rc, pr, color='b',\n",
    "                label=r'DeepHTLV Test PR (AUC = %0.2f)' % aupr,\n",
    "                lw=2, alpha=.8)\n",
    "\n",
    "        ax4.set_xlim([-0.05, 1.05])\n",
    "        ax4.set_ylim([-0.05, 1.05])\n",
    "        ax4.set_xlabel('Recall', font1)\n",
    "        ax4.set_ylabel('Precision', font1)\n",
    "        title4 = 'Independent Testing PR Curve'\n",
    "        ax4.set_title(title4, font1)\n",
    "        ax4.legend(loc=\"lower left\")\n",
    "\n",
    "        #figure1.savefig('figures/DeepHTLV_fullscript_ROC_CV10.jpg', dpi=300, bbox_inches = 'tight')\n",
    "        #figure2.savefig('figures/DeepHTLV_fullscript_PR_CV10.jpg', dpi = 300, bbox_inches = 'tight')\n",
    "        figure3.savefig('figures/DeepHTLV_fullscript_ROC_CV10mean.jpg', dpi = 300, bbox_inches = 'tight')\n",
    "        figure4.savefig('figures/DeepHTLV_fullscript_PR_CV10mean.jpg', dpi = 300, bbox_inches = 'tight')\n"
   ]
  },
  {
   "cell_type": "code",
   "execution_count": 17,
   "id": "ad8068ed",
   "metadata": {},
   "outputs": [],
   "source": [
    "cv = StratifiedKFold(n_splits = 10, shuffle = True#, random_state=1337\n",
    "                    )\n",
    "trainx, trainy, valx, valy = data_processing()"
   ]
  },
  {
   "cell_type": "code",
   "execution_count": 22,
   "id": "3d0cb864",
   "metadata": {},
   "outputs": [
    {
     "name": "stdout",
     "output_type": "stream",
     "text": [
      "building model\n",
      "Model: \"model_2\"\n",
      "__________________________________________________________________________________________________\n",
      "Layer (type)                    Output Shape         Param #     Connected to                     \n",
      "==================================================================================================\n",
      "seq_input (InputLayer)          [(None, 1000, 4)]    0                                            \n",
      "__________________________________________________________________________________________________\n",
      "conv1d_2 (Conv1D)               (None, 992, 256)     9472        seq_input[0][0]                  \n",
      "__________________________________________________________________________________________________\n",
      "max_pooling1d_2 (MaxPooling1D)  (None, 330, 256)     0           conv1d_2[0][0]                   \n",
      "__________________________________________________________________________________________________\n",
      "dropout_4 (Dropout)             (None, 330, 256)     0           max_pooling1d_2[0][0]            \n",
      "__________________________________________________________________________________________________\n",
      "flatten_2 (Flatten)             (None, 84480)        0           dropout_4[0][0]                  \n",
      "__________________________________________________________________________________________________\n",
      "attention_2 (Attention)         (None, 586)          66049       dropout_4[0][0]                  \n",
      "__________________________________________________________________________________________________\n",
      "dropout_5 (Dropout)             (None, 84480)        0           flatten_2[0][0]                  \n",
      "__________________________________________________________________________________________________\n",
      "attention_flatten_2 (attention_ (None, 256)          0           attention_2[0][0]                \n",
      "__________________________________________________________________________________________________\n",
      "dense_4 (Dense)                 (None, 1)            84481       dropout_5[0][0]                  \n",
      "__________________________________________________________________________________________________\n",
      "concatenate_2 (Concatenate)     (None, 257)          0           attention_flatten_2[0][0]        \n",
      "                                                                 dense_4[0][0]                    \n",
      "__________________________________________________________________________________________________\n",
      "dense_5 (Dense)                 (None, 1)            258         concatenate_2[0][0]              \n",
      "__________________________________________________________________________________________________\n",
      "activation_2 (Activation)       (None, 1)            0           dense_5[0][0]                    \n",
      "==================================================================================================\n",
      "Total params: 160,260\n",
      "Trainable params: 160,260\n",
      "Non-trainable params: 0\n",
      "__________________________________________________________________________________________________\n",
      "None\n",
      "200/200 [==============================] - 1s 3ms/step\n"
     ]
    },
    {
     "data": {
      "image/png": "[encoded data removed]",
      "text/plain": [
       "<Figure size 620x620 with 1 Axes>"
      ]
     },
     "metadata": {},
     "output_type": "display_data"
    },
    {
     "data": {
      "image/png": "[encoded data removed]",
      "text/plain": [
       "<Figure size 620x620 with 1 Axes>"
      ]
     },
     "metadata": {},
     "output_type": "display_data"
    }
   ],
   "source": [
    "if __name__ == '__main__':\n",
    "\t#build_model()\n",
    "\t#train_model()\n",
    "\tavg_model(valx, valy)"
   ]
  },
  {
   "cell_type": "code",
   "execution_count": null,
   "id": "46a93d68",
   "metadata": {},
   "outputs": [],
   "source": []
  }
 ],
 "metadata": {
  "kernelspec": {
   "display_name": "Python 3.8.13 ('deephtlv')",
   "language": "python",
   "name": "python3"
  },
  "language_info": {
   "codemirror_mode": {
    "name": "ipython",
    "version": 3
   },
   "file_extension": ".py",
   "mimetype": "text/x-python",
   "name": "python",
   "nbconvert_exporter": "python",
   "pygments_lexer": "ipython3",
   "version": "3.8.13"
  },
  "vscode": {
   "interpreter": {
    "hash": "3395fde9124d4e43fe1ba25af65432035387285b638bc47c56e288c9c5de6369"
   }
  }
 },
 "nbformat": 4,
 "nbformat_minor": 5
}
