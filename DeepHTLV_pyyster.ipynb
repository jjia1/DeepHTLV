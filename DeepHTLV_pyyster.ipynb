{
 "cells": [
  {
   "cell_type": "code",
   "execution_count": null,
   "id": "5ac1e539",
   "metadata": {},
   "outputs": [],
   "source": [
    "from __future__ import print_function, division\n",
    "import numpy as np\n",
    "import h5py\n",
    "import scipy.io\n",
    "import random\n",
    "import sys,os\n",
    "import itertools\n",
    "import numbers\n",
    "from collections import Counter\n",
    "from warnings import warn\n",
    "from abc import ABCMeta, abstractmethod\n",
    "from sklearn.model_selection import train_test_split, StratifiedKFold\n",
    "from sklearn.metrics import roc_auc_score, average_precision_score\n",
    "from sklearn.utils import shuffle\n",
    "import matplotlib.pyplot as plt\n",
    "import gc\n",
    "import seaborn as sns\n",
    "import pandas as pd\n"
   ]
  },
  {
   "cell_type": "code",
   "execution_count": null,
   "id": "66a5a840",
   "metadata": {},
   "outputs": [],
   "source": [
    "import tensorflow as tf\n",
    "import pysster"
   ]
  },
  {
   "cell_type": "code",
   "execution_count": null,
   "id": "3cf7fca4",
   "metadata": {},
   "outputs": [],
   "source": [
    "# The below is necessary for starting Numpy generated random numbers\n",
    "# in a well-defined initial state.\n",
    "np.random.seed(1337)\n",
    "\n",
    "# The below is necessary for starting core Python generated random numbers\n",
    "# in a well-defined state.\n",
    "#python_random.seed(1337)\n",
    "\n",
    "# The below set_seed() will make random number generation\n",
    "# in the TensorFlow backend have a well-defined initial state.\n",
    "# For further details, see:\n",
    "# https://www.tensorflow.org/api_docs/python/tf/random/set_seed\n",
    "#tf.random.set_seed(1337)\n",
    "#older version of tensorflow\n",
    "tf.compat.v1.set_random_seed(1337)"
   ]
  },
  {
   "cell_type": "code",
   "execution_count": null,
   "id": "baf00f4b",
   "metadata": {},
   "outputs": [],
   "source": [
    "os.environ['CUDA_VISIBLE_DEVICES'] = \"0\"\n",
    "gpus = tf.compat.v1.config.experimental.list_physical_devices(device_type='GPU')\n",
    "for gpu in gpus:\n",
    "    tf.compat.v1.config.experimental.set_memory_growth(gpu, True)"
   ]
  },
  {
   "cell_type": "code",
   "execution_count": null,
   "id": "3b9a06a4",
   "metadata": {},
   "outputs": [],
   "source": [
    "num_threads = 8\n",
    "# Maximum number of threads to use for OpenMP parallel regions.\n",
    "os.environ[\"OMP_NUM_THREADS\"] = \"8\"\n",
    "# Without setting below 2 environment variables, it didn't work for me. Thanks to @cjw85 \n",
    "os.environ[\"TF_NUM_INTRAOP_THREADS\"] = \"8\"\n",
    "os.environ[\"TF_NUM_INTEROP_THREADS\"] = \"8\"\n",
    "\n",
    "tf.compat.v1.config.threading.set_inter_op_parallelism_threads(\n",
    "    num_threads\n",
    ")\n",
    "tf.compat.v1.config.threading.set_intra_op_parallelism_threads(\n",
    "    num_threads\n",
    ")\n",
    "tf.compat.v1.config.set_soft_device_placement(True)"
   ]
  },
  {
   "cell_type": "code",
   "execution_count": null,
   "id": "acc5c5e0",
   "metadata": {},
   "outputs": [],
   "source": [
    "from tensorflow.keras.optimizers import *\n",
    "from tensorflow.keras.models import *\n",
    "from tensorflow.keras.layers import *\n",
    "from tensorflow.keras.constraints import MaxNorm\n",
    "from tensorflow.keras.regularizers import (\n",
    "    l2, \n",
    "    l1, \n",
    "    l1_l2\n",
    ")\n",
    "#from tensorflow.keras.models import Model\n",
    "from tensorflow.keras import backend as K\n",
    "from tensorflow.keras import (\n",
    "    activations, \n",
    "    initializers, \n",
    "    regularizers, \n",
    "    constraints\n",
    ")"
   ]
  },
  {
   "cell_type": "code",
   "execution_count": null,
   "id": "53ba35c8",
   "metadata": {},
   "outputs": [],
   "source": [
    "from tensorflow.keras.callbacks import (\n",
    "    ModelCheckpoint, \n",
    "    EarlyStopping\n",
    ")\n",
    "from sklearn.metrics import (\n",
    "    roc_curve,\n",
    "    auc,\n",
    "    roc_auc_score,\n",
    "    average_precision_score,\n",
    "    precision_recall_curve,\n",
    ")"
   ]
  },
  {
   "cell_type": "code",
   "execution_count": null,
   "id": "20d6afbc",
   "metadata": {},
   "outputs": [],
   "source": [
    "from sklearn.model_selection import train_test_split, StratifiedKFold\n",
    "from sklearn.utils import resample, shuffle\n",
    "from sklearn.feature_selection import (\n",
    "    SelectKBest,\n",
    "    chi2\n",
    ")\n",
    "from collections import defaultdict"
   ]
  },
  {
   "cell_type": "code",
   "execution_count": null,
   "id": "84eec855",
   "metadata": {},
   "outputs": [],
   "source": [
    "from attention_layer import Attention, attention_flatten"
   ]
  },
  {
   "cell_type": "code",
   "execution_count": null,
   "id": "4b27604b",
   "metadata": {},
   "outputs": [],
   "source": [
    "def build_model():\n",
    "\tprint('building model')\n",
    "\n",
    "\tseq_input_shape = (1000,4)\n",
    "\tnb_filter = 256\n",
    "\tfilter_length = 9\n",
    "\tattentionhidden = 256\n",
    "\n",
    "\tseq_input = Input(shape = seq_input_shape, name = 'seq_input')\n",
    "\tconvul1   = Convolution1D(filters = nb_filter,\n",
    "                        \t  kernel_size = filter_length,\n",
    "                        \t  padding = 'valid',\n",
    "                        \t  activation = 'relu',\n",
    "                        \t  kernel_constraint = MaxNorm(3), subsample_length = 1\n",
    "                        \t  )\n",
    "\n",
    "\tpool_ma1 = MaxPooling1D(pool_size = 3)\n",
    "\tdropout1 = Dropout(0.5977908689086315)\n",
    "\tdropout2 = Dropout(0.50131233477637737)\n",
    "\tdecoder  = Attention(hidden = attentionhidden, activation = 'linear')\n",
    "\tdense1   = Dense(1)\n",
    "\tdense2   = Dense(1)\n",
    "\n",
    "\toutput_1 = pool_ma1(convul1(seq_input))\n",
    "\toutput_2 = dropout1(output_1)\n",
    "\tatt_decoder  = decoder(output_2)\n",
    "\toutput_3 = attention_flatten(output_2.shape[2])(att_decoder)\n",
    "\n",
    "\toutput_4 =  dense1(dropout2(Flatten()(output_2)))\n",
    "\tall_outp =  concatenate([output_3, output_4])\n",
    "\toutput_5 =  dense2(all_outp)\n",
    "\toutput_f =  Activation('sigmoid')(output_5)\n",
    "\n",
    "\tmodel = Model(inputs = seq_input, outputs = output_f)\n",
    "\tmodel.compile(loss = 'binary_crossentropy', optimizer = Adam(learning_rate=1e-3), metrics = ['accuracy'])\n",
    "\n",
    "\t#print(model.summary())\n",
    "\treturn model\n"
   ]
  },
  {
   "cell_type": "code",
   "execution_count": null,
   "id": "246210bf",
   "metadata": {},
   "outputs": [],
   "source": [
    "def data_processing():\n",
    "    data = pysster.data.Data(['data/VIS_pos_final.bed.fasta', 'data/VIS_neg_final.bed.fasta'], ('ACTU'))\n",
    "    data.train_val_test_split(0.8, 0.1, seed = 1337)\n",
    "    print(data.getsummary())\n",
    "\n",
    "    ##test 1:1\n",
    "    neg_val = np.where(valy == 0)\n",
    "    pos_val = np.where(valy == 1)\n",
    "    xval_positive = valx[pos_val]\n",
    "    yval_positive = valy[pos_val]\n",
    "    xval_negative = valx[neg_val]\n",
    "    yval_negative = valy[neg_val]\n",
    "\n",
    "    permutation = np.random.permutation(xval_negative.shape[0])\n",
    "    xval_negative_1 = xval_negative[permutation[:xval_positive.shape[0]], :, :]\n",
    "    yval_negative_1 = yval_negative[permutation[:xval_positive.shape[0]]]\n",
    "\n",
    "    xval_1 = np.concatenate((xval_positive, xval_negative_1), axis=0)\n",
    "    yval_1 = np.concatenate((yval_positive, yval_negative_1), axis=0)\n",
    "    xval_2, yval_2 = shuffle(xval_1, yval_1 #, random_state=42\n",
    "                            )\n",
    "\n",
    "    trainx2, trainy2 = shuffle(trainx, trainy #, random_state = 42\n",
    "                            )\n",
    "    \n",
    "    return trainx2, trainy2, xval_2, yval_2"
   ]
  },
  {
   "cell_type": "code",
   "execution_count": null,
   "id": "3c753f59",
   "metadata": {},
   "outputs": [],
   "source": [
    "data_p = 'data/VIS_pos_final.bed.fasta'\n",
    "data_n = 'data/VIS_neg_final.bed.fasta'\n",
    "seq = open(data_p)\n",
    "lines = seq.readlines()\n",
    "seq.close()\n",
    "y_p = []\n",
    "chr_p = []\n",
    "for line in lines:\n",
    "    line = line.strip()\n",
    "    if line[0] == '>':\n",
    "        chr_p.append(line)\n",
    "    else:\n",
    "        y_p.append(line)"
   ]
  },
  {
   "cell_type": "code",
   "execution_count": null,
   "id": "eda17cbe",
   "metadata": {},
   "outputs": [],
   "source": [
    "seq_n = open(data_n)\n",
    "lines_n = seq_n.readlines()\n",
    "seq_n.close()\n",
    "y_n = []\n",
    "chr_n = []\n",
    "for line_n in lines_n:\n",
    "    line_n = line_n.strip()\n",
    "    if line_n[0] == '>':\n",
    "        chr_n.append(line_n)\n",
    "    else:\n",
    "        y_n.append(line_n)"
   ]
  },
  {
   "cell_type": "code",
   "execution_count": null,
   "id": "6eca9f5a",
   "metadata": {},
   "outputs": [],
   "source": [
    "pos_index = range(len(y_p))\n",
    "neg_index = range(len(y_n))"
   ]
  },
  {
   "cell_type": "code",
   "execution_count": null,
   "id": "eab9c2fa",
   "metadata": {},
   "outputs": [],
   "source": [
    "permutation = np.random.permutation(len(neg_index))"
   ]
  },
  {
   "cell_type": "code",
   "execution_count": null,
   "id": "3656405f",
   "metadata": {},
   "outputs": [],
   "source": [
    "plength = len(y_p)"
   ]
  },
  {
   "cell_type": "code",
   "execution_count": null,
   "id": "8c8f24a3",
   "metadata": {},
   "outputs": [],
   "source": [
    "y_n1 = []\n",
    "chr_n1 = []\n",
    "for num in permutation:\n",
    "    n = y_n[num]\n",
    "    chr = chr_n[num]\n",
    "    y_n1.append(n)\n",
    "    chr_n1.append(chr)"
   ]
  },
  {
   "cell_type": "code",
   "execution_count": null,
   "id": "f301a12b",
   "metadata": {},
   "outputs": [],
   "source": [
    "u = range(10)\n",
    "u1 = []\n",
    "[u1.append(x) for x in u]\n",
    "perm_u = np.random.permutation(u1)\n",
    "u2 = perm_u[0]\n",
    "u3 = u2+1\n",
    "plength = len(pos_index)\n",
    "#if u2 != 9:\n",
    "#    y_n1 = y_n[permutation[u2*plength]:permutation[(u3*plength)]]\n",
    "#    chr_n1 = chr_n[permutation[u2*plength]:permutation[(u3*plength)]]\n",
    "#else:\n",
    "#    y_n1 = y_n[permutation[u2*plength]:]\n",
    "#    chr_n1 = chr_n[permutation[u2*plength]:]"
   ]
  },
  {
   "cell_type": "code",
   "execution_count": null,
   "id": "48b7b169",
   "metadata": {},
   "outputs": [],
   "source": [
    "y_n2 = y_n1[u2*plength:(u2*plength+plength)]\n",
    "chr_n2 = chr_n1[u2*plength:(u2*plength+plength)]"
   ]
  },
  {
   "cell_type": "code",
   "execution_count": null,
   "id": "ef2d0d96",
   "metadata": {},
   "outputs": [],
   "source": [
    "print(y_n2[0])\n",
    "print(chr_n2[0])"
   ]
  },
  {
   "cell_type": "code",
   "execution_count": null,
   "id": "86b9ffa7",
   "metadata": {},
   "outputs": [],
   "source": [
    "print(u2)\n",
    "print(permutation[u2*plength])\n",
    "print(permutation[u2*plength+plength])"
   ]
  },
  {
   "cell_type": "code",
   "execution_count": null,
   "id": "d957148f",
   "metadata": {},
   "outputs": [],
   "source": [
    "permutation[4*31878]"
   ]
  },
  {
   "cell_type": "code",
   "execution_count": null,
   "id": "cdc0cf26",
   "metadata": {},
   "outputs": [],
   "source": [
    "print(y_n[216378])\n",
    "print(chr_n[216378])"
   ]
  },
  {
   "cell_type": "code",
   "execution_count": null,
   "id": "84a67e5f",
   "metadata": {},
   "outputs": [],
   "source": [
    "print(len(y_n2))\n",
    "print(len(chr_n2))"
   ]
  },
  {
   "cell_type": "code",
   "execution_count": null,
   "id": "a690d2b7",
   "metadata": {},
   "outputs": [],
   "source": [
    "ofile = open('data/VIS_neg_balancedsample.fasta', 'w')\n",
    "for i in range(len(y_n2)):\n",
    "    ofile.write(chr_n2[i]+'\\n'+y_n2[i]+'\\n')\n",
    "ofile.close()"
   ]
  },
  {
   "cell_type": "code",
   "execution_count": null,
   "id": "a699e4c3",
   "metadata": {},
   "outputs": [],
   "source": [
    "#def motif_analysis():\n",
    "output_folder = 'pysster_motifanalysis/'\n",
    "if not os.path.isdir(output_folder):\n",
    "    os.makedirs(output_folder)"
   ]
  },
  {
   "cell_type": "code",
   "execution_count": null,
   "id": "b6167c9d",
   "metadata": {},
   "outputs": [],
   "source": [
    "from pysster.Data import Data"
   ]
  },
  {
   "cell_type": "code",
   "execution_count": null,
   "id": "ba004c0b",
   "metadata": {},
   "outputs": [],
   "source": [
    "pos_seq = 'data/VIS_pos_final.bed.fasta'\n",
    "neg_seq = 'data/VIS_neg_balancedsample.fasta'"
   ]
  },
  {
   "cell_type": "code",
   "execution_count": null,
   "id": "ad8068ed",
   "metadata": {},
   "outputs": [],
   "source": [
    "data = Data([pos_seq, neg_seq], ('ACTU'))\n",
    "data.train_val_test_split(0.8, 0.1, seed = 1337)\n",
    "print(data.get_summary())"
   ]
  },
  {
   "cell_type": "code",
   "execution_count": null,
   "id": "a0e93c65",
   "metadata": {},
   "outputs": [],
   "source": [
    "params = {'conv_num':1, 'kernel_num':256, 'kernel_len':9, 'pool_size':3, 'pool_stride':1,\n",
    "            'dense_num':2, 'neuron_num': 10, 'dropout_input':0, 'dropout_conv':0.5, 'dropout_dense':0.5,\n",
    "            'learning_rate':1e-3, 'epochs':100}"
   ]
  },
  {
   "cell_type": "code",
   "execution_count": null,
   "id": "8de96b8c",
   "metadata": {},
   "outputs": [],
   "source": [
    "from pysster.Model import Model\n",
    "from pysster import utils"
   ]
  },
  {
   "cell_type": "code",
   "execution_count": null,
   "id": "9196e898",
   "metadata": {},
   "outputs": [],
   "source": [
    "model = Model(params, data)"
   ]
  },
  {
   "cell_type": "code",
   "execution_count": null,
   "id": "c1e136c1",
   "metadata": {},
   "outputs": [],
   "source": [
    "model.train(data, verbose=True)"
   ]
  },
  {
   "cell_type": "code",
   "execution_count": null,
   "id": "38fae021",
   "metadata": {},
   "outputs": [],
   "source": []
  }
 ],
 "metadata": {
  "kernelspec": {
   "display_name": "Python 3.8.13 ('pysster')",
   "language": "python",
   "name": "python3"
  },
  "language_info": {
   "codemirror_mode": {
    "name": "ipython",
    "version": 3
   },
   "file_extension": ".py",
   "mimetype": "text/x-python",
   "name": "python",
   "nbconvert_exporter": "python",
   "pygments_lexer": "ipython3",
   "version": "3.7.0"
  },
  "vscode": {
   "interpreter": {
    "hash": "e87b459d4989c2d32e923fc862d7d045f687b8c419e408796a55a92e9e489315"
   }
  }
 },
 "nbformat": 4,
 "nbformat_minor": 5
}
